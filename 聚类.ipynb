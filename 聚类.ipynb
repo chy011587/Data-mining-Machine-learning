{
 "cells": [
  {
   "cell_type": "code",
   "execution_count": 18,
   "metadata": {},
   "outputs": [],
   "source": [
    "import pandas as pd\n",
    "from sklearn.preprocessing import LabelEncoder\n",
    "from sklearn import preprocessing\n",
    "from sklearn.cluster import KMeans\n",
    "import matplotlib.pyplot as plt\n",
    "from sklearn.preprocessing import StandardScaler\n",
    "from sklearn.decomposition import PCA"
   ]
  },
  {
   "cell_type": "code",
   "execution_count": 2,
   "metadata": {},
   "outputs": [],
   "source": [
    "data = pd.read_csv('online_shoppers_intention.csv')"
   ]
  },
  {
   "cell_type": "code",
   "execution_count": 26,
   "metadata": {},
   "outputs": [],
   "source": [
    "data = data.drop(['Revenue'],axis=1)"
   ]
  },
  {
   "cell_type": "code",
   "execution_count": 27,
   "metadata": {},
   "outputs": [
    {
     "data": {
      "text/html": [
       "<div>\n",
       "<style scoped>\n",
       "    .dataframe tbody tr th:only-of-type {\n",
       "        vertical-align: middle;\n",
       "    }\n",
       "\n",
       "    .dataframe tbody tr th {\n",
       "        vertical-align: top;\n",
       "    }\n",
       "\n",
       "    .dataframe thead th {\n",
       "        text-align: right;\n",
       "    }\n",
       "</style>\n",
       "<table border=\"1\" class=\"dataframe\">\n",
       "  <thead>\n",
       "    <tr style=\"text-align: right;\">\n",
       "      <th></th>\n",
       "      <th>Administrative</th>\n",
       "      <th>Administrative_Duration</th>\n",
       "      <th>Informational</th>\n",
       "      <th>Informational_Duration</th>\n",
       "      <th>ProductRelated</th>\n",
       "      <th>ProductRelated_Duration</th>\n",
       "      <th>BounceRates</th>\n",
       "      <th>ExitRates</th>\n",
       "      <th>PageValues</th>\n",
       "      <th>SpecialDay</th>\n",
       "      <th>Month</th>\n",
       "      <th>OperatingSystems</th>\n",
       "      <th>Browser</th>\n",
       "      <th>Region</th>\n",
       "      <th>TrafficType</th>\n",
       "      <th>VisitorType</th>\n",
       "      <th>Weekend</th>\n",
       "    </tr>\n",
       "  </thead>\n",
       "  <tbody>\n",
       "    <tr>\n",
       "      <th>0</th>\n",
       "      <td>0</td>\n",
       "      <td>0</td>\n",
       "      <td>0</td>\n",
       "      <td>0</td>\n",
       "      <td>1</td>\n",
       "      <td>0</td>\n",
       "      <td>1860</td>\n",
       "      <td>4776</td>\n",
       "      <td>0</td>\n",
       "      <td>0</td>\n",
       "      <td>2</td>\n",
       "      <td>1</td>\n",
       "      <td>1</td>\n",
       "      <td>1</td>\n",
       "      <td>1</td>\n",
       "      <td>2</td>\n",
       "      <td>0</td>\n",
       "    </tr>\n",
       "    <tr>\n",
       "      <th>1</th>\n",
       "      <td>0</td>\n",
       "      <td>0</td>\n",
       "      <td>0</td>\n",
       "      <td>0</td>\n",
       "      <td>2</td>\n",
       "      <td>7676</td>\n",
       "      <td>0</td>\n",
       "      <td>4673</td>\n",
       "      <td>0</td>\n",
       "      <td>0</td>\n",
       "      <td>2</td>\n",
       "      <td>2</td>\n",
       "      <td>2</td>\n",
       "      <td>1</td>\n",
       "      <td>2</td>\n",
       "      <td>2</td>\n",
       "      <td>0</td>\n",
       "    </tr>\n",
       "    <tr>\n",
       "      <th>2</th>\n",
       "      <td>0</td>\n",
       "      <td>0</td>\n",
       "      <td>0</td>\n",
       "      <td>0</td>\n",
       "      <td>1</td>\n",
       "      <td>0</td>\n",
       "      <td>1860</td>\n",
       "      <td>4776</td>\n",
       "      <td>0</td>\n",
       "      <td>0</td>\n",
       "      <td>2</td>\n",
       "      <td>4</td>\n",
       "      <td>1</td>\n",
       "      <td>9</td>\n",
       "      <td>3</td>\n",
       "      <td>2</td>\n",
       "      <td>0</td>\n",
       "    </tr>\n",
       "    <tr>\n",
       "      <th>3</th>\n",
       "      <td>0</td>\n",
       "      <td>0</td>\n",
       "      <td>0</td>\n",
       "      <td>0</td>\n",
       "      <td>2</td>\n",
       "      <td>3029</td>\n",
       "      <td>1714</td>\n",
       "      <td>4744</td>\n",
       "      <td>0</td>\n",
       "      <td>0</td>\n",
       "      <td>2</td>\n",
       "      <td>3</td>\n",
       "      <td>2</td>\n",
       "      <td>2</td>\n",
       "      <td>4</td>\n",
       "      <td>2</td>\n",
       "      <td>0</td>\n",
       "    </tr>\n",
       "    <tr>\n",
       "      <th>4</th>\n",
       "      <td>0</td>\n",
       "      <td>0</td>\n",
       "      <td>0</td>\n",
       "      <td>0</td>\n",
       "      <td>10</td>\n",
       "      <td>7602</td>\n",
       "      <td>1380</td>\n",
       "      <td>4164</td>\n",
       "      <td>0</td>\n",
       "      <td>0</td>\n",
       "      <td>2</td>\n",
       "      <td>3</td>\n",
       "      <td>3</td>\n",
       "      <td>1</td>\n",
       "      <td>4</td>\n",
       "      <td>2</td>\n",
       "      <td>1</td>\n",
       "    </tr>\n",
       "  </tbody>\n",
       "</table>\n",
       "</div>"
      ],
      "text/plain": [
       "   Administrative  Administrative_Duration  Informational  \\\n",
       "0               0                        0              0   \n",
       "1               0                        0              0   \n",
       "2               0                        0              0   \n",
       "3               0                        0              0   \n",
       "4               0                        0              0   \n",
       "\n",
       "   Informational_Duration  ProductRelated  ProductRelated_Duration  \\\n",
       "0                       0               1                        0   \n",
       "1                       0               2                     7676   \n",
       "2                       0               1                        0   \n",
       "3                       0               2                     3029   \n",
       "4                       0              10                     7602   \n",
       "\n",
       "   BounceRates  ExitRates  PageValues  SpecialDay  Month  OperatingSystems  \\\n",
       "0         1860       4776           0           0      2                 1   \n",
       "1            0       4673           0           0      2                 2   \n",
       "2         1860       4776           0           0      2                 4   \n",
       "3         1714       4744           0           0      2                 3   \n",
       "4         1380       4164           0           0      2                 3   \n",
       "\n",
       "   Browser  Region  TrafficType  VisitorType  Weekend  \n",
       "0        1       1            1            2        0  \n",
       "1        2       1            2            2        0  \n",
       "2        1       9            3            2        0  \n",
       "3        2       2            4            2        0  \n",
       "4        3       1            4            2        1  "
      ]
     },
     "execution_count": 27,
     "metadata": {},
     "output_type": "execute_result"
    }
   ],
   "source": [
    "# 数据预处理  数据数字化LabelEncoder\n",
    "for col in data.columns:\n",
    "    if data[col].dtype == 'object' or data[col].dtype == 'float' or data[col].dtype == 'bool':\n",
    "        le=LabelEncoder() \n",
    "        le.fit(list(data[col].astype(str).values))\n",
    "        data[col]=le.transform(list(data[col].astype(str).values))\n",
    "data.head()"
   ]
  },
  {
   "cell_type": "code",
   "execution_count": 125,
   "metadata": {},
   "outputs": [],
   "source": [
    "#数据标准化 \n",
    "scaler = StandardScaler()\n",
    "X=data.iloc[:,:].values\n",
    "scaler.fit(X)\n",
    "X_scaled = scaler.transform(X)"
   ]
  },
  {
   "cell_type": "code",
   "execution_count": 126,
   "metadata": {},
   "outputs": [],
   "source": [
    "pca = PCA(n_components=3)\n",
    "pca = pca.fit(X_scaled)\n",
    "X=pca.transform(X_scaled)"
   ]
  },
  {
   "cell_type": "code",
   "execution_count": 127,
   "metadata": {},
   "outputs": [
    {
     "data": {
      "text/plain": [
       "array([0.17364181, 0.10335413, 0.08189919])"
      ]
     },
     "execution_count": 127,
     "metadata": {},
     "output_type": "execute_result"
    }
   ],
   "source": [
    "pca.explained_variance_ratio_"
   ]
  },
  {
   "cell_type": "code",
   "execution_count": 128,
   "metadata": {},
   "outputs": [
    {
     "data": {
      "text/plain": [
       "0.3588951279467315"
      ]
     },
     "execution_count": 128,
     "metadata": {},
     "output_type": "execute_result"
    }
   ],
   "source": [
    "(pca.explained_variance_ratio_).sum()"
   ]
  },
  {
   "cell_type": "code",
   "execution_count": 129,
   "metadata": {},
   "outputs": [
    {
     "name": "stdout",
     "output_type": "stream",
     "text": [
      "\n",
      "\n",
      "*************************************以下为聚类结果**********************************************\n",
      "       Administrative  Administrative_Duration  Informational  \\\n",
      "0                   0                        0              0   \n",
      "1                   0                        0              0   \n",
      "2                   0                        0              0   \n",
      "3                   0                        0              0   \n",
      "4                   0                        0              0   \n",
      "...               ...                      ...            ...   \n",
      "12325               3                      550              0   \n",
      "12326               0                        0              0   \n",
      "12327               0                        0              0   \n",
      "12328               4                     2951              0   \n",
      "12329               0                        0              0   \n",
      "\n",
      "       Informational_Duration  ProductRelated  ProductRelated_Duration  \\\n",
      "0                           0               1                        0   \n",
      "1                           0               2                     7676   \n",
      "2                           0               1                        0   \n",
      "3                           0               2                     3029   \n",
      "4                           0              10                     7602   \n",
      "...                       ...             ...                      ...   \n",
      "12325                       0              53                     2541   \n",
      "12326                       0               5                     6412   \n",
      "12327                       0               6                     2675   \n",
      "12328                       0              15                     5260   \n",
      "12329                       0               3                     3243   \n",
      "\n",
      "       BounceRates  ExitRates  PageValues  SpecialDay  Month  \\\n",
      "0             1860       4776           0           0      2   \n",
      "1                0       4673           0           0      2   \n",
      "2             1860       4776           0           0      2   \n",
      "3             1714       4744           0           0      2   \n",
      "4             1380       4164           0           0      2   \n",
      "...            ...        ...         ...         ...    ...   \n",
      "12325          736       3146         364           0      1   \n",
      "12326            0       2335           0           0      7   \n",
      "12327         1805       4612           0           0      7   \n",
      "12328            0       2298           0           0      7   \n",
      "12329            0       4453           0           0      7   \n",
      "\n",
      "       OperatingSystems  Browser  Region  TrafficType  VisitorType  Weekend  \\\n",
      "0                     1        1       1            1            2        0   \n",
      "1                     2        2       1            2            2        0   \n",
      "2                     4        1       9            3            2        0   \n",
      "3                     3        2       2            4            2        0   \n",
      "4                     3        3       1            4            2        1   \n",
      "...                 ...      ...     ...          ...          ...      ...   \n",
      "12325                 4        6       1            1            2        1   \n",
      "12326                 3        2       1            8            2        1   \n",
      "12327                 3        2       1           13            2        1   \n",
      "12328                 2        2       3           11            2        0   \n",
      "12329                 3        2       1            2            0        1   \n",
      "\n",
      "       聚类结果  \n",
      "0         0  \n",
      "1         0  \n",
      "2         0  \n",
      "3         0  \n",
      "4         0  \n",
      "...     ...  \n",
      "12325     0  \n",
      "12326     1  \n",
      "12327     0  \n",
      "12328     1  \n",
      "12329     1  \n",
      "\n",
      "[12330 rows x 18 columns]\n"
     ]
    }
   ],
   "source": [
    "#使用KMeans进行聚类\n",
    "km = KMeans(n_clusters=3)\n",
    "km.fit(X)\n",
    "predict_y = km.fit_predict(X)\n",
    "result = pd.concat((data,pd.DataFrame(predict_y)),axis=1)      # 合并聚类结果，并插入到原数据中\n",
    "result.rename({0:u'聚类结果'},axis=1,inplace=True)\n",
    "print('\\n')\n",
    "print(\"*************************************以下为聚类结果**********************************************\")\n",
    "print(result)"
   ]
  },
  {
   "cell_type": "code",
   "execution_count": 132,
   "metadata": {},
   "outputs": [
    {
     "data": {
      "image/png": "[encoded data removed]",
      "text/plain": [
       "<Figure size 432x288 with 1 Axes>"
      ]
     },
     "metadata": {
      "needs_background": "light"
     },
     "output_type": "display_data"
    }
   ],
   "source": [
    "# 手肘法判断簇数的取值,统计不同簇的取值的误差平方和，可以看出n_clusters取2比较合适\n",
    "sse = []\n",
    "for k in range(1, 11):\n",
    "    kmeans = KMeans(n_clusters=k)\n",
    "    kmeans.fit(train_x)\n",
    "    sse.append(kmeans.inertia_)  # 计算inertia簇内误差平方和\n",
    "x = range(1, 11)\n",
    "plt.xlabel('K')\n",
    "plt.ylabel('SSE')\n",
    "plt.plot(x, sse, 'o-')\n",
    "plt.show()"
   ]
  },
  {
   "cell_type": "code",
   "execution_count": 133,
   "metadata": {},
   "outputs": [
    {
     "data": {
      "image/png": "[encoded data removed]",
      "text/plain": [
       "<Figure size 432x288 with 1 Axes>"
      ]
     },
     "metadata": {
      "needs_background": "light"
     },
     "output_type": "display_data"
    }
   ],
   "source": [
    "plt.scatter(X[:,0],X[:,1],marker='.',facecolors='b',edgecolors='k')\n",
    "#质心\n",
    "centroids = km.cluster_centers_\n",
    "plt.scatter(X[predict_y == 0,0],X[predict_y == 0,1],c = 'pink')#标签0\n",
    "plt.scatter(X[predict_y == 1,0],X[predict_y == 1,1],c = 'yellow')#标签1\n",
    "plt.scatter(centroids[:,0],centroids[:,1],marker='*',color='red')#质心\n",
    "plt.title('K-Means clustering')#标题\n",
    "x_min,x_max = min(X[:,0])-1,max(X[:,0])+1\n",
    "y_min,y_max = min(X[:,1])-1,max(X[:,1])+1\n",
    "plt.xlim(x_min,x_max)\n",
    "plt.ylim(y_min,y_max)\n",
    "plt.show()"
   ]
  },
  {
   "cell_type": "code",
   "execution_count": null,
   "metadata": {},
   "outputs": [],
   "source": []
  }
 ],
 "metadata": {
  "kernelspec": {
   "display_name": "Python 3",
   "language": "python",
   "name": "python3"
  },
  "language_info": {
   "codemirror_mode": {
    "name": "ipython",
    "version": 3
   },
   "file_extension": ".py",
   "mimetype": "text/x-python",
   "name": "python",
   "nbconvert_exporter": "python",
   "pygments_lexer": "ipython3",
   "version": "3.8.5"
  }
 },
 "nbformat": 4,
 "nbformat_minor": 4
}
